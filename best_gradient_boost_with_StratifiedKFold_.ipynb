{
  "nbformat": 4,
  "nbformat_minor": 0,
  "metadata": {
    "colab": {
      "name": "best_gradient_boost_with_StratifiedKFold_.ipynb",
      "provenance": [],
      "include_colab_link": true
    },
    "kernelspec": {
      "name": "python3",
      "display_name": "Python 3"
    }
  },
  "cells": [
    {
      "cell_type": "markdown",
      "metadata": {
        "id": "view-in-github",
        "colab_type": "text"
      },
      "source": [
        "<a href=\"https://colab.research.google.com/github/OshadhaAK/ML_Competition/blob/master/best_gradient_boost_with_StratifiedKFold_.ipynb\" target=\"_parent\"><img src=\"https://colab.research.google.com/assets/colab-badge.svg\" alt=\"Open In Colab\"/></a>"
      ]
    },
    {
      "cell_type": "code",
      "metadata": {
        "id": "fRhJSrNySVCI",
        "colab_type": "code",
        "colab": {}
      },
      "source": [
        "from sklearn.model_selection import StratifiedKFold\n",
        "import pandas as pd\n",
        "import numpy as np\n",
        "from sklearn.model_selection import train_test_split, GridSearchCV\n",
        "from sklearn.ensemble import RandomForestClassifier\n",
        "from sklearn.ensemble import GradientBoostingClassifier\n",
        "from xgboost.sklearn import XGBClassifier\n",
        "from sklearn.metrics import f1_score\n",
        "import warnings\n",
        "warnings.simplefilter('ignore')\n",
        "import pandas.testing as tm"
      ],
      "execution_count": null,
      "outputs": []
    },
    {
      "cell_type": "code",
      "metadata": {
        "id": "7TeKR55ASeX4",
        "colab_type": "code",
        "colab": {}
      },
      "source": [
        "df = pd.read_csv('/content/drive/My Drive/ml/train.csv',index_col='tripid')\n",
        "Xtest = pd.read_csv('/content/drive/My Drive/ml/test.csv',index_col='tripid')\n",
        "submission_df = pd.read_csv(\"/content/drive/My Drive/ml/sample_submission.csv\",index_col='tripid')"
      ],
      "execution_count": null,
      "outputs": []
    },
    {
      "cell_type": "code",
      "metadata": {
        "id": "SG9zNLcsgULM",
        "colab_type": "code",
        "colab": {}
      },
      "source": [
        "df"
      ],
      "execution_count": null,
      "outputs": []
    },
    {
      "cell_type": "code",
      "metadata": {
        "id": "_IRfLtQaSgvv",
        "colab_type": "code",
        "colab": {}
      },
      "source": [
        "df['label'] = [0 if x == \"incorrect\" else 1 for x in df['label']]"
      ],
      "execution_count": null,
      "outputs": []
    },
    {
      "cell_type": "code",
      "metadata": {
        "id": "FMHlvCgySsLg",
        "colab_type": "code",
        "colab": {}
      },
      "source": [
        "import numpy as np\n",
        "def getDistanceFromLatLonInKm(lat1, lon1, lat2, lon2):\n",
        "    R = 6373.0\n",
        "\n",
        "    lat1 = np.radians(lat1)\n",
        "    lon1 = np.radians(lon1)\n",
        "    lat2 = np.radians(lat2)\n",
        "    lon2 = np.radians(lon2)\n",
        "\n",
        "    dlon = lon2 - lon1\n",
        "    dlat = lat2 - lat1\n",
        "\n",
        "    a = np.sin(dlat / 2) ** 2 + np.cos(lat1) * np.cos(lat2) * np.sin(dlon / 2) ** 2\n",
        "\n",
        "    c = 2 * np.arctan2(np.sqrt(a), np.sqrt(1 - a))\n",
        "    distance = R * c\n",
        "\n",
        "    return distance"
      ],
      "execution_count": null,
      "outputs": []
    },
    {
      "cell_type": "code",
      "metadata": {
        "id": "zqOCLlvuSuKR",
        "colab_type": "code",
        "colab": {}
      },
      "source": [
        "df['distance'] = getDistanceFromLatLonInKm(df['drop_lat'],df['drop_lon'],df['pick_lat'],df['pick_lon'])\n",
        "Xtest['distance'] = getDistanceFromLatLonInKm(Xtest['drop_lat'],Xtest['drop_lon'],Xtest['pick_lat'],Xtest['pick_lon'])"
      ],
      "execution_count": null,
      "outputs": []
    },
    {
      "cell_type": "code",
      "metadata": {
        "id": "zfa6JfEMSzVI",
        "colab_type": "code",
        "colab": {}
      },
      "source": [
        "df = df.drop(['drop_time','pickup_time','drop_lat','drop_lon','pick_lat','pick_lon'], axis = 1)\n",
        "Xtest = Xtest.drop(['drop_time','pickup_time','drop_lat','drop_lon','pick_lat','pick_lon'], axis = 1)"
      ],
      "execution_count": null,
      "outputs": []
    },
    {
      "cell_type": "code",
      "metadata": {
        "id": "s2Euow3ATGD5",
        "colab_type": "code",
        "colab": {}
      },
      "source": [
        "np.testing.assert_array_equal(Xtest.index.values, submission_df.index.values)"
      ],
      "execution_count": null,
      "outputs": []
    },
    {
      "cell_type": "code",
      "metadata": {
        "id": "vJbgK6RSTH9w",
        "colab_type": "code",
        "colab": {}
      },
      "source": [
        "df.dropna(how='any', inplace=True)"
      ],
      "execution_count": null,
      "outputs": []
    },
    {
      "cell_type": "code",
      "metadata": {
        "id": "lzVZbvpRTq-Y",
        "colab_type": "code",
        "colab": {}
      },
      "source": [
        "X = df.drop('label',1)\n",
        "y = df.label"
      ],
      "execution_count": null,
      "outputs": []
    },
    {
      "cell_type": "code",
      "metadata": {
        "id": "DsnJkIJUxi0G",
        "colab_type": "code",
        "colab": {
          "base_uri": "https://localhost:8080/",
          "height": 70
        },
        "outputId": "e11143f2-de2d-46fa-d6a8-2ce3ef9abb75"
      },
      "source": [
        "print (y.value_counts())"
      ],
      "execution_count": null,
      "outputs": [
        {
          "output_type": "stream",
          "text": [
            "1    15442\n",
            "0     1526\n",
            "Name: label, dtype: int64\n"
          ],
          "name": "stdout"
        }
      ]
    },
    {
      "cell_type": "code",
      "metadata": {
        "id": "bg56THd1ct6A",
        "colab_type": "code",
        "colab": {}
      },
      "source": [
        "X"
      ],
      "execution_count": null,
      "outputs": []
    },
    {
      "cell_type": "code",
      "metadata": {
        "id": "3XKP8pd0Ts4Y",
        "colab_type": "code",
        "colab": {}
      },
      "source": [
        "best_three_folds = []\n",
        "skfold = StratifiedKFold(n_splits=3, shuffle=True)\n",
        "model = GradientBoostingClassifier(n_estimators=1000, learning_rate=0.05)\n",
        "model_results = []\n",
        "\n",
        "for train_index, test_index in skfold.split(X, y):\n",
        "  X_train, X_test = X.iloc[train_index,:],X.iloc[test_index,:]\n",
        "  y_train, y_test = y.iloc[train_index],y.iloc[test_index]\n",
        "  model.fit(X_train,y_train)\n",
        "  y_pred = model.predict(X_test)\n",
        "  f1 = f1_score(y_test,y_pred)\n",
        "  model_results.append(f1)\n",
        "\n",
        "  prediction = model.predict(Xtest)\n",
        "  best_three_folds.append(prediction.tolist())\n",
        "\n",
        "print(model_results,np.mean(model_results))\n"
      ],
      "execution_count": null,
      "outputs": []
    },
    {
      "cell_type": "code",
      "metadata": {
        "id": "7kR6cBQnT_qg",
        "colab_type": "code",
        "colab": {}
      },
      "source": [
        "best_three_folds = np.array(best_three_folds)\n",
        "best_three_folds = np.mean(best_three_folds, axis=0)\n"
      ],
      "execution_count": null,
      "outputs": []
    },
    {
      "cell_type": "code",
      "metadata": {
        "id": "L6R1y_E5UAXf",
        "colab_type": "code",
        "colab": {}
      },
      "source": [
        "ynew = np.where(best_three_folds < 0.5, 0, 1)"
      ],
      "execution_count": null,
      "outputs": []
    },
    {
      "cell_type": "code",
      "metadata": {
        "id": "Cse8fQjGbQFR",
        "colab_type": "code",
        "colab": {}
      },
      "source": [
        "ynew"
      ],
      "execution_count": null,
      "outputs": []
    },
    {
      "cell_type": "code",
      "metadata": {
        "id": "6QwqEZ9l2vbU",
        "colab_type": "code",
        "colab": {}
      },
      "source": [
        "import collections\n",
        "print (collections.Counter(ynew))"
      ],
      "execution_count": null,
      "outputs": []
    },
    {
      "cell_type": "code",
      "metadata": {
        "id": "V9ctq-9MTvug",
        "colab_type": "code",
        "colab": {}
      },
      "source": [
        "res = pd.DataFrame({'tripid': Xtest.index, 'prediction': ynew})\n",
        "res.to_csv(\"/content/drive/My Drive/ml/grahourmin.csv\", index=False)"
      ],
      "execution_count": null,
      "outputs": []
    },
    {
      "cell_type": "code",
      "metadata": {
        "id": "n21TXIUzT62w",
        "colab_type": "code",
        "colab": {}
      },
      "source": [
        "!head '/content/drive/My Drive/ml/grahourmin.csv'"
      ],
      "execution_count": null,
      "outputs": []
    }
  ]
}